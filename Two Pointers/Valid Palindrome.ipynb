{
 "cells": [
  {
   "cell_type": "markdown",
   "id": "141c3d7e",
   "metadata": {},
   "source": [
    "### 125. Valid Palindrome\n",
    "\n",
    "problem link: https://leetcode.com/problems/valid-palindrome/description/?envType=problem-list-v2&envId=two-pointers\n",
    "\n"
   ]
  }
 ],
 "metadata": {
  "language_info": {
   "name": "python"
  }
 },
 "nbformat": 4,
 "nbformat_minor": 5
}
