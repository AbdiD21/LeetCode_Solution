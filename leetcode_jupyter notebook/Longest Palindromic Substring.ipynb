{
 "cells": [
  {
   "cell_type": "markdown",
   "id": "05cf26ce",
   "metadata": {},
   "source": [
    "#### 5. Longest Palindromic Substring\n",
    "\n",
    "Problem link: https://leetcode.com/problems/longest-palindromic-substring/description/\n",
    "\n",
    "https://leetcode.com/problems/longest-palindromic-substring/description/?envType=problem-list-v2&envId=two-pointers&\n"
   ]
  }
 ],
 "metadata": {
  "language_info": {
   "name": "python"
  }
 },
 "nbformat": 4,
 "nbformat_minor": 5
}
