{
 "cells": [
  {
   "cell_type": "markdown",
   "id": "6abf8141",
   "metadata": {},
   "source": [
    "#### **7.Reverse Integer**\n",
    "\n",
    "the link to problem: https://leetcode.com/problems/reverse-integer/description/\n"
   ]
  }
 ],
 "metadata": {
  "language_info": {
   "name": "python"
  }
 },
 "nbformat": 4,
 "nbformat_minor": 5
}
