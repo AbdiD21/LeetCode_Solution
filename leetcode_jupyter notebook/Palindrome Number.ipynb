{
 "cells": [
  {
   "cell_type": "markdown",
   "id": "dab5ef98",
   "metadata": {},
   "source": [
    "9. Palindrome Number \n",
    "\n",
    "link to problem: https://leetcode.com/problems/palindrome-number/description/\n"
   ]
  }
 ],
 "metadata": {
  "language_info": {
   "name": "python"
  }
 },
 "nbformat": 4,
 "nbformat_minor": 5
}
