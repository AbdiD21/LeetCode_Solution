{
 "cells": [
  {
   "cell_type": "markdown",
   "id": "13911688",
   "metadata": {},
   "source": [
    "## 1901.Find a Peak Element II\n",
    "\n",
    "Problem link: https://leetcode.com/problems/find-a-peak-element-ii/description/ "
   ]
  },
  {
   "cell_type": "markdown",
   "id": "d72bc23c",
   "metadata": {},
   "source": [
    "### Constraints\n",
    "\n",
    "### 1. `m == mat.length`\n",
    "\n",
    "* `mat` is a **2D array** (like a list of lists in Python).\n",
    "* `.length` (in Java/C++) or `len()` (in Python) gives the **number of rows**.\n",
    "* So `m == mat.length` means:\n",
    "\n",
    " `m` is the number of <font color=\"green\">rows</font> in the 2D array.\n",
    "\n",
    "### 2. `n == mat[i].length`\n",
    "\n",
    "* `mat[i]` refers to the **i-th row** of the matrix.\n",
    "* `.length` gives the number of elements in that row (i.e., **columns**).\n",
    "* So `n == mat[i].length` means:\n",
    "\n",
    " `n` is the number of columns in row `i`.\n",
    "\n",
    "\n",
    "#### Example in Python\n",
    "\n",
    "```python\n",
    "mat = [\n",
    "    [1, 2, 3],   # row 0\n",
    "    [4, 5, 6],   # row 1\n",
    "    [7, 8, 9]    # row 2\n",
    "]\n",
    "\n",
    "m = len(mat)         # number of rows\n",
    "n = len(mat[0])      # number of columns in row 0\n",
    "\n",
    "print(\"m =\", m)  # 3 rows\n",
    "print(\"n =\", n)  # 3 columns\n",
    "```\n",
    "Output:\n",
    "\n",
    "```\n",
    "m = 3\n",
    "n = 3\n",
    "```\n",
    "\n",
    "#### 📝 In short:\n",
    "\n",
    "* `m` → number of rows\n",
    "* `n` → number of columns\n",
    "\n",
    "So when you see constraints like:\n",
    "\n",
    "```\n",
    "m == mat.length\n",
    "n == mat[i].length\n",
    "```\n",
    "\n",
    "They’re just **defining the matrix dimensions**:\n",
    "\n",
    "* `m` rows\n",
    "* `n` columns"
   ]
  }
 ],
 "metadata": {
  "language_info": {
   "name": "python"
  }
 },
 "nbformat": 4,
 "nbformat_minor": 5
}
