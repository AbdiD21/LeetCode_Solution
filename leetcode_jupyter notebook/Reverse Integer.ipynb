{
 "cells": [
  {
   "cell_type": "markdown",
   "id": "6abf8141",
   "metadata": {},
   "source": [
    "#### **7.Reverse Integer**\n",
    "\n",
    "The link to problem: https://leetcode.com/problems/reverse-integer/description/\n"
   ]
  },
  {
   "cell_type": "markdown",
   "id": "6cb40fc3",
   "metadata": {},
   "source": [
    "#### **Intuition**\n",
    "\n"
   ]
  },
  {
   "cell_type": "markdown",
   "id": "8fc41603",
   "metadata": {},
   "source": [
    "#### **Approach**\n",
    "\n"
   ]
  },
  {
   "cell_type": "markdown",
   "id": "a3cc1957",
   "metadata": {},
   "source": [
    "#### Code \n",
    "\n"
   ]
  },
  {
   "cell_type": "markdown",
   "id": "a156f683",
   "metadata": {},
   "source": [
    "**Usage**\n",
    "\n"
   ]
  },
  {
   "cell_type": "markdown",
   "id": "a2ca761e",
   "metadata": {},
   "source": [
    "#### **Time and Space Complexity**\n",
    "\n"
   ]
  },
  {
   "cell_type": "markdown",
   "id": "2ad7617c",
   "metadata": {},
   "source": [
    "#### Solution 2\n",
    "\n"
   ]
  },
  {
   "cell_type": "markdown",
   "id": "930dae88",
   "metadata": {},
   "source": [
    "#### **Additional Explanation related to this problem**"
   ]
  }
 ],
 "metadata": {
  "language_info": {
   "name": "python"
  }
 },
 "nbformat": 4,
 "nbformat_minor": 5
}
