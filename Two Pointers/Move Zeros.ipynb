{
 "cells": [
  {
   "cell_type": "markdown",
   "id": "a92134f6",
   "metadata": {},
   "source": [
    "### **283.Move Zeros**\n",
    "\n",
    "Problem Link: https://leetcode.com/problems/move-zeroes/?envType=problem-list-v2&envId=two-pointers\n"
   ]
  },
  {
   "cell_type": "markdown",
   "id": "74057c36",
   "metadata": {},
   "source": [
    "#### **Hints**\n",
    "\n",
    "What is **`In-Place`**?\n",
    "\n",
    "**In-place** means modifying the data **directly in the original memory location**, without using extra space for another copy of the data.\n",
    "\n",
    "##### In simpler terms:\n",
    "\n",
    "You **don't create a new array or list** — you just update or rearrange the elements in the existing one.\n",
    "\n",
    "#### Example:\n",
    "\n",
    "If you're given:\n",
    "\n",
    "```python\n",
    "nums = [0, 1, 0, 3, 12]\n",
    "```\n",
    "\n",
    "And your goal is to move the zeroes to the end **in-place**, you change `nums` directly to:\n",
    "\n",
    "```python\n",
    "[1, 3, 12, 0, 0]\n",
    "```\n",
    "\n",
    "without doing something like:\n",
    "\n",
    "```python\n",
    "new_nums = [1, 3, 12, 0, 0]  # ❌ This is not in-place\n",
    "```\n",
    "\n",
    "##### Why is it important?\n",
    "\n",
    "* Saves memory.\n",
    "* Often required in coding interviews and competitions.\n"
   ]
  }
 ],
 "metadata": {
  "language_info": {
   "name": "python"
  }
 },
 "nbformat": 4,
 "nbformat_minor": 5
}
