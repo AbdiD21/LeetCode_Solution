{
 "cells": [
  {
   "cell_type": "markdown",
   "id": "707b22e8",
   "metadata": {},
   "source": [
    "### 2951. Find the Peaks\n",
    "\n",
    "Problem link: https://leetcode.com/problems/find-the-peaks/ "
   ]
  },
  {
   "cell_type": "code",
   "execution_count": null,
   "id": "8ac1a3a3",
   "metadata": {},
   "outputs": [],
   "source": []
  },
  {
   "cell_type": "markdown",
   "id": "ba8a7b5b",
   "metadata": {},
   "source": [
    "#### Takeaways\n",
    "\n",
    "What is <font color=\"green\">***0-indexed array?***</font>\n",
    "\n",
    "A \"**0-indexed array**\" refers to an array or similar data structure where the *first element* is accessed using the ***index 0***, the second element using the index 1, and so on. This is in contrast to \"**1-indexed**\" systems where the first element is accessed with index 1. \n",
    "\n",
    "Key characteristics of 0-indexed arrays:\n",
    "\n",
    "- **Starting Index:** The index of the very first element is 0.\n",
    "    Subsequent Elements: Each subsequent element's index increments by one from the previous, meaning the n-th element is found at index n-1.\n",
    "    \n",
    "- **Common in Programming:** Most modern programming languages, including C++, Java, Python, JavaScript, and many others, utilize 0-based indexing for arrays and lists.\n"
   ]
  }
 ],
 "metadata": {
  "language_info": {
   "name": "python"
  }
 },
 "nbformat": 4,
 "nbformat_minor": 5
}
