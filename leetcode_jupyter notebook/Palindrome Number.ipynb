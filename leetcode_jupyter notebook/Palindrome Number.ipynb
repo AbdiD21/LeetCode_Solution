{
 "cells": [
  {
   "cell_type": "markdown",
   "id": "dab5ef98",
   "metadata": {},
   "source": [
    "#### **9. Palindrome Number**\n",
    "\n",
    "link to problem: https://leetcode.com/problems/palindrome-number/description/\n"
   ]
  },
  {
   "cell_type": "markdown",
   "id": "061899e5",
   "metadata": {},
   "source": [
    "#### **Intuition**\n",
    "\n",
    "When I first saw this problem, I immediately thought about how a palindrome number reads the same forward and backward—just like a palindrome word (e.g., \"madam\"). So, I realized that to check if a number is a palindrome, **I could** reverse the number and compare it to the original.\n",
    "\n",
    "**However**, the `follow-up` asked **not** to convert the number to a string, so I decided to work with the digits directly. My idea was to reverse the number mathematically, by extracting digits one by one from the end, rebuilding the reversed number, and finally comparing it to the original.\n",
    "\n",
    "* If both are the same, the number is a palindrome."
   ]
  },
  {
   "cell_type": "markdown",
   "id": "c6b23739",
   "metadata": {},
   "source": [
    "#### **Approach**\n",
    "\n",
    "1. If the number is negative, return `False` because it can't be a palindrome(-121 is not equal to 121-).\n",
    "\n",
    "2. Store the original number.\n",
    "\n",
    "3. Reverse the number by repeatedly:\n",
    "\n",
    "    * Taking the last digit using x % 10.\n",
    "\n",
    "    * Appending it to the reversed number using reversed_x = reversed_x * 10 + digit.\n",
    "\n",
    "    * Removing the last digit from x using x //= 10.\n",
    "\n",
    "4. After the loop, compare the reversed number to the original.\n",
    "\n",
    "5. If they match, return True; otherwise, return False."
   ]
  },
  {
   "cell_type": "markdown",
   "id": "dc54752f",
   "metadata": {},
   "source": [
    "#### **Code**"
   ]
  },
  {
   "cell_type": "code",
   "execution_count": 7,
   "id": "cb901007",
   "metadata": {},
   "outputs": [],
   "source": [
    "class Solution:\n",
    "    def isPalindrome(self, x: int) -> bool:\n",
    "        # Step 1: Negative numbers are not palindromes\n",
    "        if x < 0:\n",
    "            return False\n",
    "\n",
    "        # Step 2: Store the original number\n",
    "        original_x = x\n",
    "        reversed_x = 0\n",
    "\n",
    "        # Step 3: Reverse the number\n",
    "        while x > 0:\n",
    "            digit = x % 10  # Extract the last digit\n",
    "            reversed_x = reversed_x * 10 + digit  # Add digit to reversed number\n",
    "            x //= 10  # Remove the last digit from x\n",
    "\n",
    "        # Step 4: Compare the reversed number with the original\n",
    "        return original_x == reversed_x\n"
   ]
  },
  {
   "cell_type": "markdown",
   "id": "f244f441",
   "metadata": {},
   "source": [
    "**Usage**"
   ]
  },
  {
   "cell_type": "code",
   "execution_count": 8,
   "id": "b4e624b6",
   "metadata": {},
   "outputs": [
    {
     "name": "stdout",
     "output_type": "stream",
     "text": [
      "True\n",
      "False\n",
      "False\n"
     ]
    }
   ],
   "source": [
    "solution = Solution() \n",
    "print(solution.isPalindrome(121))\n",
    "print(solution.isPalindrome(-121))\n",
    "print(solution.isPalindrome(10))"
   ]
  },
  {
   "cell_type": "markdown",
   "id": "9c2841fd",
   "metadata": {},
   "source": [
    "#### **Time and Space Complexity**\n",
    "Time Complexity\n",
    "\n",
    " * O(log₁₀(n)) – Each iteration removes one digit from the number, so the number of steps is proportional to the number of digits.\n",
    "\n",
    "Space Complexity\n",
    "\n",
    "  * O(1) – Only a few integer variables are used, and no extra data structures are needed."
   ]
  },
  {
   "cell_type": "markdown",
   "id": "24965210",
   "metadata": {},
   "source": [
    "#### Solution 2\n",
    "By converting into a string"
   ]
  },
  {
   "cell_type": "code",
   "execution_count": 9,
   "id": "1f27e3f1",
   "metadata": {},
   "outputs": [],
   "source": [
    "class Solution:\n",
    "    def isPalindrome(self, x: int) -> bool:\n",
    "        return str(x) == str(x)[::-1] if x >= 0 else False"
   ]
  },
  {
   "cell_type": "markdown",
   "id": "fd3502b6",
   "metadata": {},
   "source": [
    "**Usage**"
   ]
  },
  {
   "cell_type": "code",
   "execution_count": 10,
   "id": "9af79149",
   "metadata": {},
   "outputs": [
    {
     "name": "stdout",
     "output_type": "stream",
     "text": [
      "True\n",
      "False\n",
      "False\n"
     ]
    }
   ],
   "source": [
    "solution = Solution() \n",
    "print(solution.isPalindrome(121))\n",
    "print(solution.isPalindrome(-121))\n",
    "print(solution.isPalindrome(10))"
   ]
  },
  {
   "cell_type": "markdown",
   "id": "4a695120",
   "metadata": {},
   "source": [
    "#### **Additional Explanation related to this problem** \n",
    "\n",
    "\n",
    "A slice bracket has three '**slots**': '**start**, and **step**.\n",
    "\n",
    "\n",
    "* [2:17:3] means: start at 2, end before 17, go in steps of 3\n",
    "\n",
    "* [17:2:-3] means: start at 17, end before 2, go `backward` steps of 3\n",
    "\n",
    "If you leave slots empty, there's a default.\n",
    "\n",
    "- [:] means: The whole thing.\n",
    "\n",
    "- [::1] means: start at the beginning, end when it ends, walk in steps of 1 (which is the default, so you don't even need to write it).\n",
    "\n",
    "- [::-1] means: start at the end (the minus does that for you ), end when nothing's left and walk backwards by 1.\n",
    "\n",
    "\n",
    "Example:\n",
    "```python \n",
    "word = input(\"Enter a word: \")\n",
    "\n",
    "if word == word[::-1]:\n",
    "    print(\"It's a palindrome!\")\n",
    "else:\n",
    "    print(\"Not a palindrome.\") \n",
    "```"
   ]
  },
  {
   "cell_type": "markdown",
   "id": "fa3de441",
   "metadata": {},
   "source": [
    "### What does \"without converting to a string\" mean?\n",
    "\n",
    "In Python, you can turn a number into a string using `str()`.\n",
    "\n",
    "Example \n",
    "```python\n",
    "x = 121 \n",
    "s = str(x) # s is now the string \"121\"\n",
    "```\n",
    "Then we could check for palindrome like this:\n",
    "\n",
    "``` python\n",
    "return s==s[::-1] # True if the string is the same forwards and backwards\n",
    "```\n",
    "\n",
    "But our code does not do that.\n",
    "\n",
    "Instead of converting the number to a string, your code reverses the number mathematically using digits only.\n",
    "\n",
    "That means:\n",
    "* It works with integers, not strings.\n",
    "* It's more memory-efficient and faster in some case\n",
    "\n",
    "So \"without converting it to a string\" means:\n",
    "* You're checking if the number is a palindrome using math only- no `str()`, no slicing, just digits."
   ]
  }
 ],
 "metadata": {
  "kernelspec": {
   "display_name": "Python 3",
   "language": "python",
   "name": "python3"
  },
  "language_info": {
   "codemirror_mode": {
    "name": "ipython",
    "version": 3
   },
   "file_extension": ".py",
   "mimetype": "text/x-python",
   "name": "python",
   "nbconvert_exporter": "python",
   "pygments_lexer": "ipython3",
   "version": "3.13.2"
  }
 },
 "nbformat": 4,
 "nbformat_minor": 5
}
