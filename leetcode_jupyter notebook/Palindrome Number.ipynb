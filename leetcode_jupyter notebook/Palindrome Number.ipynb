{
 "cells": [
  {
   "cell_type": "markdown",
   "id": "dab5ef98",
   "metadata": {},
   "source": [
    "#### 9. Palindrome Number\n",
    "\n",
    "link to problem: https://leetcode.com/problems/palindrome-number/description/\n"
   ]
  },
  {
   "cell_type": "markdown",
   "id": "ef807542",
   "metadata": {},
   "source": [
    "**Solution**\n"
   ]
  },
  {
   "cell_type": "code",
   "execution_count": null,
   "id": "7135241e",
   "metadata": {},
   "outputs": [
    {
     "name": "stdout",
     "output_type": "stream",
     "text": [
      "It's a palindrome!\n"
     ]
    }
   ],
   "source": [
    "word = input(\"Enter a word: \")\n",
    "\n",
    "if word == word[::-1]:\n",
    "    print(\"It's a palindrome!\")\n",
    "else:\n",
    "    print(\"Not a palindrome.\") "
   ]
  },
  {
   "cell_type": "markdown",
   "id": "9c2841fd",
   "metadata": {},
   "source": [
    "#### **Time and Space Complexity**\n",
    "\n",
    "* Time: O(log10X) - we process each digit once\n",
    "\n",
    "* Space: O(1) - No extra space used"
   ]
  },
  {
   "cell_type": "markdown",
   "id": "4a695120",
   "metadata": {},
   "source": [
    "#### **Explanation related to this problem** \n",
    "\n",
    "\n",
    "A slice bracket has three '**slots**': '**start**, and **step**.\n",
    "\n",
    "\n",
    "* [2:17:3] means: start at 2, end before 17, go in steps of 3\n",
    "\n",
    "* [17:2:-3] means: start at 17, end before 2, go `backward` steps of 3\n",
    "\n",
    "If you leave slots empty, there's a default.\n",
    "\n",
    "- [:] means: The whole thing.\n",
    "\n",
    "- [::1] means: start at the beginning, end when it ends, walk in steps of 1 (which is the default, so you don't even need to write it).\n",
    "\n",
    "- [::-1] means: start at the end (the minus does that for you ), end when nothing's left and walk backwards by 1.\n"
   ]
  },
  {
   "cell_type": "markdown",
   "id": "fa3de441",
   "metadata": {},
   "source": [
    "### What does \"without converting to a string\" mean?\n",
    "\n",
    "In Python, you can turn a number into a string using str().\n",
    "\n",
    "Example \n",
    "```python\n",
    "x = 121 \n",
    "s = str(x) # s is now the string \"121\"\n",
    "```\n",
    "Then we could check for palindrome like this:\n",
    "\n",
    "``` python\n",
    "return s==s[::-1] # True if the string is the same forwards and backwards\n",
    "```\n",
    "\n",
    "But our code does not do that.\n",
    "\n",
    "Instead of converting the number to a string, your code reverses the number mathematically using digits only.\n",
    "\n",
    "That means:\n",
    "* It works with integers, not strings.\n",
    "* It's more memory-efficient and faster in some case\n",
    "\n",
    "So \"without converting it to a string\" means:\n",
    "* You're checking if the number is a palindrome using math only- no str(), no slicing, just digits."
   ]
  }
 ],
 "metadata": {
  "kernelspec": {
   "display_name": "Python 3",
   "language": "python",
   "name": "python3"
  },
  "language_info": {
   "codemirror_mode": {
    "name": "ipython",
    "version": 3
   },
   "file_extension": ".py",
   "mimetype": "text/x-python",
   "name": "python",
   "nbconvert_exporter": "python",
   "pygments_lexer": "ipython3",
   "version": "3.13.2"
  }
 },
 "nbformat": 4,
 "nbformat_minor": 5
}
