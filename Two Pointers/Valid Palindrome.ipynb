{
 "cells": [
  {
   "cell_type": "markdown",
   "id": "141c3d7e",
   "metadata": {},
   "source": [
    "### 125. Valid Palindrome\n",
    "\n",
    "problem link: https://leetcode.com/problems/valid-palindrome/description/?envType=problem-list-v2&envId=two-pointers\n",
    "\n"
   ]
  },
  {
   "cell_type": "markdown",
   "id": "33f99132",
   "metadata": {},
   "source": [
    "#### **Intuition**\n",
    "A **palindrome** is a string that reads the same forward and backward, ignoring case adn non-alphanumeric characters.\n",
    "\n",
    "Instead of cleaning the entire string and reversing it(which uses extra space), we can use a **two-pointer technique** to compare characters from both ends of the string, skipping over any non-alphanumeric characters, and checking if the characters match(in a case-insensitive way)."
   ]
  },
  {
   "cell_type": "markdown",
   "id": "cb617921",
   "metadata": {},
   "source": [
    "#### **Approach**"
   ]
  },
  {
   "cell_type": "markdown",
   "id": "b95f8f8b",
   "metadata": {},
   "source": [
    "#### **Code**"
   ]
  },
  {
   "cell_type": "markdown",
   "id": "bfa1091a",
   "metadata": {},
   "source": [
    "**Usage**"
   ]
  },
  {
   "cell_type": "markdown",
   "id": "3fc19b13",
   "metadata": {},
   "source": [
    "#### **Time and Space Complexity**"
   ]
  }
 ],
 "metadata": {
  "language_info": {
   "name": "python"
  }
 },
 "nbformat": 4,
 "nbformat_minor": 5
}
