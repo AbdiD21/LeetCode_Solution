{
 "cells": [
  {
   "cell_type": "markdown",
   "id": "13911688",
   "metadata": {},
   "source": [
    "## 1901.Find a Peak Element II\n",
    "\n",
    "Problem link: https://leetcode.com/problems/find-a-peak-element-ii/description/ "
   ]
  },
  {
   "cell_type": "markdown",
   "id": "d72bc23c",
   "metadata": {},
   "source": []
  }
 ],
 "metadata": {
  "language_info": {
   "name": "python"
  }
 },
 "nbformat": 4,
 "nbformat_minor": 5
}
