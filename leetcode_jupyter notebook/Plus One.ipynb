{
 "cells": [
  {
   "cell_type": "markdown",
   "id": "073f18e0",
   "metadata": {},
   "source": [
    "### **66. Plus One**\n",
    "\n",
    "The link to the Problem: https://leetcode.com/problems/plus-one/description/\n"
   ]
  },
  {
   "cell_type": "markdown",
   "id": "9113d5cd",
   "metadata": {},
   "source": [
    "#### **Intuition**\n",
    "We need to simulate adding 1 to a large number represented as a list of digits. Just like we do manual addition (starting from the rightmost digit), if a digit is less than 9, we can simply add 1 and we're done. But if it’s 9, adding 1 makes it 0 and creates a carry to the next digit on the left.\n",
    "\n",
    "If all digits are 9 (like `[9, 9, 9]`), the result becomes `[1, 0, 0, 0]`."
   ]
  },
  {
   "cell_type": "markdown",
   "id": "2b07ecfd",
   "metadata": {},
   "source": [
    "#### **Approach**\n",
    "\n"
   ]
  },
  {
   "cell_type": "markdown",
   "id": "8ef2a398",
   "metadata": {},
   "source": [
    "#### **Code**\n",
    "\n"
   ]
  },
  {
   "cell_type": "code",
   "execution_count": 1,
   "id": "2024cd84",
   "metadata": {},
   "outputs": [],
   "source": [
    "class Solution(object):\n",
    "    def plusOne(self, digits):\n",
    "        \"\"\"\n",
    "        :type digits: List[int]\n",
    "        :rtype: List[int]\n",
    "        \"\"\"\n",
    "        n = len(digits)\n",
    "        for i in range(n - 1, -1, -1):\n",
    "            if digits[i] < 9:\n",
    "                digits[i] += 1\n",
    "                return digits\n",
    "            digits[i] = 0\n",
    "        return [1] + digits"
   ]
  },
  {
   "cell_type": "markdown",
   "id": "5de597b8",
   "metadata": {},
   "source": [
    "**Usage**"
   ]
  },
  {
   "cell_type": "code",
   "execution_count": 2,
   "id": "ddb921dd",
   "metadata": {},
   "outputs": [
    {
     "name": "stdout",
     "output_type": "stream",
     "text": [
      "Output: [1, 2, 4]\n",
      "Output: [4, 3, 2, 2]\n",
      "Output: [1, 0]\n"
     ]
    }
   ],
   "source": [
    "# Example usage\n",
    "solution = Solution()\n",
    "\n",
    "# Test Case 1\n",
    "digits1 = [1, 2, 3]\n",
    "result1 = solution.plusOne(digits1)\n",
    "print(f\"Output: {result1}\") \n",
    "\n",
    "# Test Case 2\n",
    "digits2 = [4, 3, 2, 1]\n",
    "result2 = solution.plusOne(digits2)\n",
    "print(f\"Output: {result2}\")\n",
    "\n",
    "# Test Case 3\n",
    "digits3 = [9]\n",
    "result3 = solution.plusOne(digits3)\n",
    "print(f\"Output: {result3}\") "
   ]
  },
  {
   "cell_type": "markdown",
   "id": "796040f5",
   "metadata": {},
   "source": [
    "#### **Time and Space Complexity**\n",
    "**Time Complexity:O(n)**, where `n` is the length of the input array digits. In the **worst case**, we need to iterate through **all** digits once(e.g, when all digits are 9).\n",
    "\n",
    "\n",
    "**Space Complexity:O(1)** if we modify input array in-place, or O(n) if we create a new array(e.g., when all digits are 9 and we add a leading 1). Since the problem allows modifying the input, we can consider it O(1) practice.\n"
   ]
  }
 ],
 "metadata": {
  "kernelspec": {
   "display_name": "Python 3",
   "language": "python",
   "name": "python3"
  },
  "language_info": {
   "codemirror_mode": {
    "name": "ipython",
    "version": 3
   },
   "file_extension": ".py",
   "mimetype": "text/x-python",
   "name": "python",
   "nbconvert_exporter": "python",
   "pygments_lexer": "ipython3",
   "version": "3.13.2"
  }
 },
 "nbformat": 4,
 "nbformat_minor": 5
}
