{
 "cells": [
  {
   "cell_type": "markdown",
   "id": "dab5ef98",
   "metadata": {},
   "source": [
    "9. Palindrome Number \n",
    "\n",
    "link to problem: https://leetcode.com/problems/palindrome-number/description/\n"
   ]
  },
  {
   "cell_type": "markdown",
   "id": "ef807542",
   "metadata": {},
   "source": [
    "Solution"
   ]
  },
  {
   "cell_type": "code",
   "execution_count": null,
   "id": "7135241e",
   "metadata": {},
   "outputs": [],
   "source": []
  }
 ],
 "metadata": {
  "language_info": {
   "name": "python"
  }
 },
 "nbformat": 4,
 "nbformat_minor": 5
}
