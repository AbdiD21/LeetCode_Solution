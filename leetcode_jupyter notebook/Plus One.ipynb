{
 "cells": [
  {
   "cell_type": "markdown",
   "id": "073f18e0",
   "metadata": {},
   "source": [
    "### **66. Plus One**\n",
    "\n",
    "The link to the Problem: https://leetcode.com/problems/plus-one/description/\n"
   ]
  }
 ],
 "metadata": {
  "kernelspec": {
   "display_name": "Python 3",
   "language": "python",
   "name": "python3"
  },
  "language_info": {
   "codemirror_mode": {
    "name": "ipython",
    "version": 3
   },
   "file_extension": ".py",
   "mimetype": "text/x-python",
   "name": "python",
   "nbconvert_exporter": "python",
   "pygments_lexer": "ipython3",
   "version": "3.13.2"
  }
 },
 "nbformat": 4,
 "nbformat_minor": 5
}
