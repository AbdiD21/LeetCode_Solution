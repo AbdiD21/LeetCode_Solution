{
 "cells": [
  {
   "cell_type": "markdown",
   "id": "073f18e0",
   "metadata": {},
   "source": [
    "### **66. Plus One**\n",
    "\n",
    "The link to the Problem: https://leetcode.com/problems/plus-one/description/\n"
   ]
  },
  {
   "cell_type": "code",
   "execution_count": 1,
   "id": "2b3c401f",
   "metadata": {},
   "outputs": [],
   "source": [
    "class Solution:\n",
    "    def plusOne(self, digits):\n",
    "        \"\"\"\n",
    "        :type digits: List[int]\n",
    "        :rtype: List[int]\n",
    "        \"\"\"\n",
    "        carry = 1\n",
    "        for i in range(len(digits) - 1, -1, -1):\n",
    "            if carry == 0:\n",
    "                break\n",
    "            digits[i] += carry\n",
    "            if digits[i] == 10:\n",
    "                digits[i] = 0\n",
    "                carry = 1\n",
    "            else:\n",
    "                carry = 0\n",
    "        \n",
    "        if carry == 1:\n",
    "            digits.insert(0, 1)\n",
    "        \n",
    "        return digits"
   ]
  },
  {
   "cell_type": "code",
   "execution_count": null,
   "id": "489c3bb3",
   "metadata": {},
   "outputs": [
    {
     "name": "stdout",
     "output_type": "stream",
     "text": [
      "[1, 2, 4]\n",
      "[1, 0, 0, 0]\n",
      "[1]\n",
      "[4, 3, 2, 2]\n"
     ]
    }
   ],
   "source": [
    "# usage example \n",
    "if __name__ == \"__main__\":  \n",
    "    solution = Solution()\n",
    "    print(solution.plusOne([1, 2, 3]))  # Output: [1, 2, 4]\n",
    "    print(solution.plusOne([9, 9, 9]))  # Output: [1, 0, 0, 0]\n",
    "    print(solution.plusOne([0]))        # Output: [1]\n",
    "    print(solution.plusOne([4, 3, 2, 1]))  # Output: [4, 3, 2, 2]"
   ]
  },
  {
   "cell_type": "code",
   "execution_count": null,
   "id": "a552e396",
   "metadata": {},
   "outputs": [],
   "source": [
    "# second solution\n",
    "class Solution2:\n",
    "    def plusOne(self, digits: List[int]) -> List[int]:\n",
    "        \"\"\"\n",
    "        :type digits: List[int]\n",
    "        :rtype: List[int]\n",
    "        \"\"\"\n",
    "        carry = 1\n",
    "        for i in range(len(digits) - 1, -1, -1):\n",
    "            if carry == 0:\n",
    "                break\n",
    "            digits[i] += carry\n",
    "            if digits[i] == 10:\n",
    "                digits[i] = 0\n",
    "                carry = 1\n",
    "            else:\n",
    "                carry = 0\n",
    "        \n",
    "        if carry == 1:\n",
    "            digits.insert(0, 1)\n",
    "        \n",
    "        return digits"
   ]
  },
  {
   "cell_type": "code",
   "execution_count": null,
   "id": "3d3564f9",
   "metadata": {},
   "outputs": [],
   "source": [
    "# example usage\n",
    "if __name__ == \"__main__\":  \n",
    "    solution2 = Solution2()\n",
    "    print(solution2.plusOne([1, 2, 3]))  # Output: [1, 2, 4]\n",
    "    print(solution2.plusOne([9, 9, 9]))  # Output: [1, 0, 0, 0]\n",
    "    print(solution2.plusOne([0]))        # Output: [1]\n",
    "    print(solution2.plusOne([4, 3, 2, 1]))  # Output: [4, 3, 2, 2]"
   ]
  },
  {
   "cell_type": "code",
   "execution_count": null,
   "id": "3b338b5c",
   "metadata": {},
   "outputs": [],
   "source": [
    "# other solution\n",
    "class Solution(object):\n",
    "    def plusOne(self, digits):\n",
    "        \"\"\"\n",
    "        :type digits: List[int]\n",
    "        :rtype: List[int]\n",
    "        \"\"\"\n",
    "        carry = 1\n",
    "        for i in range(len(digits) - 1, -1, -1):\n",
    "            if carry == 0:\n",
    "                break\n",
    "            digits[i] += carry\n",
    "            if digits[i] == 10:\n",
    "                digits[i] = 0\n",
    "                carry = 1\n",
    "            else:\n",
    "                carry = 0\n",
    "        \n",
    "        if carry == 1:\n",
    "            digits.insert(0, 1)\n",
    "        \n",
    "        return digits"
   ]
  },
  {
   "cell_type": "code",
   "execution_count": null,
   "id": "8fe25786",
   "metadata": {},
   "outputs": [],
   "source": [
    "# usage example\n",
    "if __name__ == \"__main__\":\n",
    "    solution = Solution()\n",
    "    print(solution.plusOne([1, 2, 3]))  # Output: [1, 2, 4]\n",
    "    print(solution.plusOne([9, 9, 9]))  # Output: [1, 0, 0, 0]\n",
    "    print(solution.plusOne([0]))        # Output: [1]\n",
    "    print(solution.plusOne([4, 3, 2, 1]))  # Output: [4, 3, 2, 2]"
   ]
  }
 ],
 "metadata": {
  "kernelspec": {
   "display_name": "Python 3",
   "language": "python",
   "name": "python3"
  },
  "language_info": {
   "codemirror_mode": {
    "name": "ipython",
    "version": 3
   },
   "file_extension": ".py",
   "mimetype": "text/x-python",
   "name": "python",
   "nbconvert_exporter": "python",
   "pygments_lexer": "ipython3",
   "version": "3.13.2"
  }
 },
 "nbformat": 4,
 "nbformat_minor": 5
}
