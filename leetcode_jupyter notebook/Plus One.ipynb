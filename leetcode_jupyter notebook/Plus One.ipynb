{
 "cells": [
  {
   "cell_type": "markdown",
   "id": "073f18e0",
   "metadata": {},
   "source": [
    "### **66. Plus One**\n",
    "\n",
    "The link to the Problem: https://leetcode.com/problems/plus-one/description/\n"
   ]
  }
 ],
 "metadata": {
  "language_info": {
   "name": "python"
  }
 },
 "nbformat": 4,
 "nbformat_minor": 5
}
