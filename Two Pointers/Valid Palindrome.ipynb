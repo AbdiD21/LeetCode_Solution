{
 "cells": [
  {
   "cell_type": "markdown",
   "id": "141c3d7e",
   "metadata": {},
   "source": [
    "### 125. Valid Palindrome\n",
    "\n",
    "problem link: https://leetcode.com/problems/valid-palindrome/description/?envType=problem-list-v2&envId=two-pointers\n",
    "\n"
   ]
  },
  {
   "cell_type": "markdown",
   "id": "33f99132",
   "metadata": {},
   "source": [
    "#### **Intuition**\n",
    "A **palindrome** is a string that reads the same forward and backward, ignoring case adn non-alphanumeric characters.\n",
    "\n",
    "Instead of cleaning the entire string and reversing it(which uses extra space), we can use a **two-pointer technique** to compare characters from both ends of the string, skipping over any non-alphanumeric characters, and checking if the characters match(in a case-insensitive way)."
   ]
  },
  {
   "cell_type": "markdown",
   "id": "cb617921",
   "metadata": {},
   "source": [
    "#### **Approach**\n",
    "\n",
    "1. Initialize Pointers:\n",
    "\n",
    " Start with two pointers:\n",
    "* left at the beginning of the string (0)\n",
    "* right at the end of the string (len(s) - 1)\n",
    "\n",
    "2. Traverse Toward Center:\n",
    "\n",
    "Use a while loop to compare characters while left < right.\n",
    "\n",
    "3. Skip Non-Alphanumeric Characters:\n",
    "\n",
    "    - If s[left] is not alphanumeric (.isalnum() returns False), increment left.\n",
    "\n",
    "    - If s[right] is not alphanumeric, decrement right.\n",
    "\n",
    "    - Continue to next iteration (continue) to skip the current comparison.\n",
    "\n",
    "4. Case-Insensitive Comparison:\n",
    "\n",
    "    - Convert both s[left] and s[right] to lowercase using .lower().\n",
    "\n",
    "    - If they are not equal, return False immediately — it’s not a palindrome.\n",
    "\n",
    "5. Move Inward:\n",
    "\n",
    "    - If characters match, increment left and decrement right to continue checking inward.\n",
    "\n",
    "6. Return True:\n",
    "\n",
    "    - If all matching passes and pointers meet/cross, it means the string is a valid palindrome."
   ]
  },
  {
   "cell_type": "markdown",
   "id": "b95f8f8b",
   "metadata": {},
   "source": [
    "#### **Code**"
   ]
  },
  {
   "cell_type": "code",
   "execution_count": 1,
   "id": "2af47098",
   "metadata": {},
   "outputs": [],
   "source": [
    "class Solution:\n",
    "    def isPalindrome(self, s: str) -> bool:\n",
    "        # Initialize two pointers at the start and end of the string\n",
    "        left, right = 0, len(s) - 1\n",
    "\n",
    "        # Loop while the left pointer is before the right pointer\n",
    "        while left < right:\n",
    "            # Skip non-alphanumeric characters from the left side\n",
    "            if not s[left].isalnum():\n",
    "                left += 1\n",
    "                continue\n",
    "\n",
    "            # Skip non-alphanumeric characters from the right side\n",
    "            if not s[right].isalnum():\n",
    "                right -= 1\n",
    "                continue\n",
    "\n",
    "            # Compare lowercase versions of the characters\n",
    "            if s[left].lower() != s[right].lower():\n",
    "                return False  # Not a palindrome if characters don't match\n",
    "\n",
    "            # Move both pointers toward the center\n",
    "            left += 1\n",
    "            right -= 1\n",
    "\n",
    "        # If all characters matched, it is a palindrome\n",
    "        return True\n",
    "\n",
    "# Time complexity: O(n) - Each character is visited at most once\n",
    "# Space complexity: O(1) - No extra space used besides variables\n"
   ]
  },
  {
   "cell_type": "markdown",
   "id": "bfa1091a",
   "metadata": {},
   "source": [
    "**Usage**"
   ]
  },
  {
   "cell_type": "markdown",
   "id": "3fc19b13",
   "metadata": {},
   "source": [
    "#### **Time and Space Complexity**"
   ]
  }
 ],
 "metadata": {
  "kernelspec": {
   "display_name": "Python 3",
   "language": "python",
   "name": "python3"
  },
  "language_info": {
   "codemirror_mode": {
    "name": "ipython",
    "version": 3
   },
   "file_extension": ".py",
   "mimetype": "text/x-python",
   "name": "python",
   "nbconvert_exporter": "python",
   "pygments_lexer": "ipython3",
   "version": "3.13.2"
  }
 },
 "nbformat": 4,
 "nbformat_minor": 5
}
