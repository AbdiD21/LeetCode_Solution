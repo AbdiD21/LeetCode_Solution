{
 "cells": [
  {
   "cell_type": "markdown",
   "id": "141c3d7e",
   "metadata": {},
   "source": [
    "### 125. Valid Palindrome\n",
    "\n",
    "problem link: https://leetcode.com/problems/valid-palindrome/description/?envType=problem-list-v2&envId=two-pointers\n",
    "\n"
   ]
  },
  {
   "cell_type": "markdown",
   "id": "33f99132",
   "metadata": {},
   "source": [
    "#### **Intuition**\n",
    "A **palindrome** is a string that reads the same forward and backward, ignoring case adn non-alphanumeric characters.\n",
    "\n",
    "Instead of cleaning the entire string and reversing it(which uses extra space), we can use a **two-pointer technique** to compare characters from both ends of the string, skipping over any non-alphanumeric characters, and checking if the characters match(in a case-insensitive way)."
   ]
  },
  {
   "cell_type": "markdown",
   "id": "cb617921",
   "metadata": {},
   "source": [
    "#### **Approach**\n",
    "\n",
    "1. Initialize Pointers:\n",
    "\n",
    " Start with two pointers:\n",
    "* left at the beginning of the string (0)\n",
    "* right at the end of the string (len(s) - 1)\n",
    "\n",
    "2. Traverse Toward Center:\n",
    "\n",
    "Use a while loop to compare characters while left < right.\n",
    "\n",
    "3. Skip Non-Alphanumeric Characters:\n",
    "\n",
    "    - If s[left] is not alphanumeric (.isalnum() returns False), increment left.\n",
    "\n",
    "    - If s[right] is not alphanumeric, decrement right.\n",
    "\n",
    "    - Continue to next iteration (continue) to skip the current comparison.\n",
    "\n",
    "4. Case-Insensitive Comparison:\n",
    "\n",
    "    - Convert both s[left] and s[right] to lowercase using .lower().\n",
    "\n",
    "    - If they are not equal, return False immediately — it’s not a palindrome.\n",
    "\n",
    "5. Move Inward:\n",
    "\n",
    "    - If characters match, increment left and decrement right to continue checking inward.\n",
    "\n",
    "6. Return True:\n",
    "\n",
    "    - If all matching passes and pointers meet/cross, it means the string is a valid palindrome."
   ]
  },
  {
   "cell_type": "markdown",
   "id": "b95f8f8b",
   "metadata": {},
   "source": [
    "#### **Code**"
   ]
  },
  {
   "cell_type": "markdown",
   "id": "bfa1091a",
   "metadata": {},
   "source": [
    "**Usage**"
   ]
  },
  {
   "cell_type": "markdown",
   "id": "3fc19b13",
   "metadata": {},
   "source": [
    "#### **Time and Space Complexity**"
   ]
  }
 ],
 "metadata": {
  "language_info": {
   "name": "python"
  }
 },
 "nbformat": 4,
 "nbformat_minor": 5
}
